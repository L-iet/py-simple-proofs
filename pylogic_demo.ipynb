{
 "cells": [
  {
   "cell_type": "markdown",
   "id": "f9699bbf",
   "metadata": {},
   "source": [
    "Limit of $x^2$ as $x\\to 0$ is 0\n"
   ]
  },
  {
   "cell_type": "code",
   "execution_count": 1,
   "id": "dfe1f8eb",
   "metadata": {},
   "outputs": [],
   "source": [
    "# forall x: forall eps: [eps > 0 -> exists delta: (delta > 0 /\\ [Abs(x) < delta -> x**2 < eps])]"
   ]
  },
  {
   "cell_type": "code",
   "execution_count": 14,
   "id": "569a2c60",
   "metadata": {},
   "outputs": [],
   "source": [
    "from pylogic.proposition.ordering.greaterthan import GreaterThan\n",
    "from pylogic.proposition.ordering.lessthan import LessThan\n",
    "from pylogic.proposition.relation.equals import Equals\n",
    "from pylogic.proposition.not_ import Not, neg\n",
    "from pylogic.variable import Variable\n",
    "from pylogic import p_symbol as ps\n",
    "from pylogic.proposition.quantified.forall import Forall\n",
    "from pylogic.proposition.ordering.theorems import order_axiom_bf, absolute_value_nonnegative_f\n",
    "import sympy as sp"
   ]
  },
  {
   "cell_type": "code",
   "execution_count": 3,
   "id": "5ca54a68",
   "metadata": {},
   "outputs": [
    {
     "data": {
      "text/latex": [
       "$$\\forall x: \\forall eps: \\left(eps > 0 \\rightarrow \\exists \\delta: \\left(\\delta > 0\\wedge \\left(\\left|{x}\\right| < \\delta \\rightarrow x^{2} < eps\\right)\\right)\\right)$$"
      ],
      "text/plain": [
       "forall x: forall eps: [eps > 0 -> exists delta: (delta > 0 /\\ [Abs(x) < delta -> x**2 < eps])]"
      ]
     },
     "execution_count": 3,
     "metadata": {},
     "output_type": "execute_result"
    }
   ],
   "source": [
    "x = Variable(\"x\", real=True)\n",
    "abs_x = sp.Abs(x)\n",
    "abs_x_not_0 = neg(Equals(abs_x, 0), is_assumption=True)\n",
    "\n",
    "eps = Variable(\"eps\", real=True)\n",
    "eps_positive = GreaterThan(eps, 0, is_assumption=True)\n",
    "\n",
    "absolute_x_positive = GreaterThan.is_absolute(abs_x, abs_x_not_0)\n",
    "root_eps_positive = GreaterThan.is_rational_power(sp.sqrt(eps), eps_positive)\n",
    "absx_lt_sqrt_eps = LessThan(abs_x, sp.sqrt(eps), is_assumption=True)\n",
    "xsq_lt_eps_t_absx = absx_lt_sqrt_eps.p_multiply_by_positive(abs_x, absolute_x_positive)\n",
    "eps_t_absx_lt_eps = absx_lt_sqrt_eps.p_multiply_by_positive(sp.sqrt(eps), root_eps_positive)\n",
    "xsq_lt_eps = xsq_lt_eps_t_absx.transitive(eps_t_absx_lt_eps)\n",
    "\n",
    "lim_x_sq_at_0 = (\n",
    "    xsq_lt_eps.followed_from(absx_lt_sqrt_eps)\n",
    "    .p_and_reverse(root_eps_positive)\n",
    "    .thus_there_exists(\"delta\", sp.sqrt(eps), [[0], [1, 0]])\n",
    "    .followed_from(eps_positive)\n",
    "    .thus_forall(eps)\n",
    "    .thus_forall(x)\n",
    ")\n",
    "lim_x_sq_at_0"
   ]
  },
  {
   "cell_type": "markdown",
   "id": "ccc59ce8",
   "metadata": {},
   "source": [
    "###  Proving Theorem 1.2.6 (the converse statement) Understanding Analysis, 2nd Edition\n",
    "if (forall eps>0, |a-b|<eps) then a = b"
   ]
  },
  {
   "cell_type": "code",
   "execution_count": 18,
   "id": "ce043dcf",
   "metadata": {},
   "outputs": [
    {
     "data": {
      "text/latex": [
       "$$a - b = 0$$"
      ],
      "text/plain": [
       "a - b = 0"
      ]
     },
     "execution_count": 18,
     "metadata": {},
     "output_type": "execute_result"
    }
   ],
   "source": [
    "a = ps.Symbol(\"a\", real=True)\n",
    "b = ps.Symbol(\"b\", real=True)\n",
    "\n",
    "abs_a_minus_b = sp.Abs(a - b) # type:ignore\n",
    "premise = Forall(eps, GreaterThan(eps, 0).implies(LessThan(abs_a_minus_b, eps)), is_assumption=True)\n",
    "premise2 = premise.in_particular(abs_a_minus_b)\n",
    "\n",
    "# ~ |a-b| > 0\n",
    "abs_a_minus_b_is_not_pos: Not[GreaterThan] = (\n",
    "    Equals(abs_a_minus_b, abs_a_minus_b).by_simplification()\n",
    "    .modus_ponens(order_axiom_bf(abs_a_minus_b, abs_a_minus_b))\n",
    "    .modus_tollens(premise2)\n",
    "\n",
    ")\n",
    "abs_a_minus_b_is_0: Equals = absolute_value_nonnegative_f(abs_a_minus_b).unit_resolve(abs_a_minus_b_is_not_pos) #type:ignore\n",
    "\n",
    "abs_a_minus_b_is_0.zero_abs_is_0()\n"
   ]
  },
  {
   "cell_type": "code",
   "execution_count": null,
   "id": "71179886",
   "metadata": {},
   "outputs": [],
   "source": []
  },
  {
   "cell_type": "code",
   "execution_count": null,
   "id": "24587504",
   "metadata": {},
   "outputs": [],
   "source": []
  }
 ],
 "metadata": {
  "kernelspec": {
   "display_name": "Python 3 (ipykernel)",
   "language": "python",
   "name": "python3"
  },
  "language_info": {
   "codemirror_mode": {
    "name": "ipython",
    "version": 3
   },
   "file_extension": ".py",
   "mimetype": "text/x-python",
   "name": "python",
   "nbconvert_exporter": "python",
   "pygments_lexer": "ipython3",
   "version": "3.11.4"
  }
 },
 "nbformat": 4,
 "nbformat_minor": 5
}
