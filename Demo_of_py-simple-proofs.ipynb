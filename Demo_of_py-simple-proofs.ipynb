{
 "cells": [
  {
   "cell_type": "code",
   "execution_count": 1,
   "id": "dfe1f8eb",
   "metadata": {},
   "outputs": [],
   "source": [
    "import proposition as p\n",
    "import p_symbol as ps\n",
    "import sympy as sp"
   ]
  },
  {
   "cell_type": "markdown",
   "id": "974cb311",
   "metadata": {},
   "source": [
    "## Proving $x^2$ is continuous at $x=0$"
   ]
  },
  {
   "cell_type": "code",
   "execution_count": 2,
   "id": "9d31b5ad",
   "metadata": {},
   "outputs": [],
   "source": [
    "x = ps.Symbol(\"x\", real=True)\n",
    "eps = ps.Symbol(r\"\\epsilon\", real=True)"
   ]
  },
  {
   "cell_type": "code",
   "execution_count": 3,
   "id": "dab601d7",
   "metadata": {},
   "outputs": [
    {
     "data": {
      "text/latex": [
       "$$\\epsilon > 0$$"
      ],
      "text/plain": [
       "\\epsilon > 0"
      ]
     },
     "execution_count": 3,
     "metadata": {},
     "output_type": "execute_result"
    }
   ],
   "source": [
    "eps_positive = p.GreaterThan(eps, 0, is_assumption=True)\n",
    "eps_positive"
   ]
  },
  {
   "cell_type": "code",
   "execution_count": 4,
   "id": "11142a12",
   "metadata": {},
   "outputs": [
    {
     "data": {
      "text/latex": [
       "$$\\left|{x}\\right| > 0$$"
      ],
      "text/plain": [
       "Abs(x) > 0"
      ]
     },
     "execution_count": 4,
     "metadata": {},
     "output_type": "execute_result"
    }
   ],
   "source": [
    "absolute_x_positive = p.GreaterThan.is_absolute(sp.Abs(x))\n",
    "absolute_x_positive"
   ]
  },
  {
   "cell_type": "code",
   "execution_count": 5,
   "id": "5f85c19c",
   "metadata": {},
   "outputs": [
    {
     "data": {
      "text/latex": [
       "$$\\sqrt{\\epsilon} > 0$$"
      ],
      "text/plain": [
       "sqrt(\\epsilon) > 0"
      ]
     },
     "execution_count": 5,
     "metadata": {},
     "output_type": "execute_result"
    }
   ],
   "source": [
    "root_eps_positive = p.GreaterThan.is_rational_power(sp.sqrt(eps), eps_positive)\n",
    "root_eps_positive"
   ]
  },
  {
   "cell_type": "code",
   "execution_count": 6,
   "id": "7b7bc87b",
   "metadata": {},
   "outputs": [
    {
     "data": {
      "text/latex": [
       "$$\\left|{x}\\right| < \\sqrt{\\epsilon}$$"
      ],
      "text/plain": [
       "Abs(x) < sqrt(\\epsilon)"
      ]
     },
     "execution_count": 6,
     "metadata": {},
     "output_type": "execute_result"
    }
   ],
   "source": [
    "absx_lt_sqrt_eps = p.LessThan(sp.Abs(x), sp.sqrt(eps), is_assumption=True)\n",
    "absx_lt_sqrt_eps"
   ]
  },
  {
   "cell_type": "code",
   "execution_count": 7,
   "id": "a431518e",
   "metadata": {},
   "outputs": [
    {
     "data": {
      "text/latex": [
       "$$x^{2} < \\sqrt{\\epsilon} \\left|{x}\\right|$$"
      ],
      "text/plain": [
       "x**2 < sqrt(\\epsilon)*Abs(x)"
      ]
     },
     "execution_count": 7,
     "metadata": {},
     "output_type": "execute_result"
    }
   ],
   "source": [
    "xsq_lt_eps_t_absx = absx_lt_sqrt_eps.p_multiply_by_positive(\n",
    "        abs(x), absolute_x_positive\n",
    "    )\n",
    "xsq_lt_eps_t_absx"
   ]
  },
  {
   "cell_type": "code",
   "execution_count": 8,
   "id": "5033e031",
   "metadata": {},
   "outputs": [
    {
     "data": {
      "text/latex": [
       "$$x^{2} < \\epsilon$$"
      ],
      "text/plain": [
       "x**2 < \\epsilon"
      ]
     },
     "execution_count": 8,
     "metadata": {},
     "output_type": "execute_result"
    }
   ],
   "source": [
    "eps_t_absx_lt_eps = absx_lt_sqrt_eps.p_multiply_by_positive(\n",
    "        sp.sqrt(eps), root_eps_positive\n",
    "    )\n",
    "xsq_lt_eps = xsq_lt_eps_t_absx.transitive(eps_t_absx_lt_eps)\n",
    "xsq_lt_eps"
   ]
  },
  {
   "cell_type": "code",
   "execution_count": 9,
   "id": "efe7759c",
   "metadata": {},
   "outputs": [
    {
     "data": {
      "text/plain": [
       "True"
      ]
     },
     "execution_count": 9,
     "metadata": {},
     "output_type": "execute_result"
    }
   ],
   "source": [
    "xsq_lt_eps.is_proven"
   ]
  },
  {
   "cell_type": "markdown",
   "id": "3de295d2",
   "metadata": {},
   "source": [
    "In a written proof, we would probably stop here, as we've proven that given some arbitrary $\\epsilon$, we have a value which is in fact $\\sqrt \\epsilon$ that makes $x^2 > \\epsilon$. However, we can construct the actual statement we wanted to prove from these parts.\n",
    "\n",
    "The statement is somewhat backwards, since we are constructing it from inside out. I chose this style because it is\n",
    "somewhat readable without too many nested parentheses."
   ]
  },
  {
   "cell_type": "code",
   "execution_count": 10,
   "id": "6d8ece25",
   "metadata": {},
   "outputs": [],
   "source": [
    "lim_x_sq_as_x_tends_to_0_eq_0 = (\n",
    "    xsq_lt_eps.followed_from(absx_lt_sqrt_eps)\n",
    "    .p_and_reverse(root_eps_positive)\n",
    "    .thus_there_exists(\"delta\", sp.sqrt(eps), [[0], [1, 0]])\n",
    "    .followed_from(eps_positive)\n",
    "    .thus_forall(eps)\n",
    ")"
   ]
  },
  {
   "cell_type": "code",
   "execution_count": 11,
   "id": "23a7eba2",
   "metadata": {},
   "outputs": [
    {
     "data": {
      "text/latex": [
       "$$\\forall \\epsilon: \\left(\\epsilon > 0 \\rightarrow \\exists \\delta: \\left(\\delta > 0\\wedge \\left(\\left|{x}\\right| < \\delta \\rightarrow x^{2} < \\epsilon\\right)\\right)\\right)$$"
      ],
      "text/plain": [
       "forall \\epsilon: [\\epsilon > 0 -> exists delta: (delta > 0 /\\ [Abs(x) < delta -> x**2 < \\epsilon])]"
      ]
     },
     "execution_count": 11,
     "metadata": {},
     "output_type": "execute_result"
    }
   ],
   "source": [
    "lim_x_sq_as_x_tends_to_0_eq_0"
   ]
  },
  {
   "cell_type": "code",
   "execution_count": 12,
   "id": "15e40963",
   "metadata": {},
   "outputs": [
    {
     "data": {
      "text/plain": [
       "True"
      ]
     },
     "execution_count": 12,
     "metadata": {},
     "output_type": "execute_result"
    }
   ],
   "source": [
    "lim_x_sq_as_x_tends_to_0_eq_0.is_proven"
   ]
  },
  {
   "cell_type": "markdown",
   "id": "7291b80d",
   "metadata": {},
   "source": [
    "## Proving $(A+B)^T = A^T + B^T$"
   ]
  },
  {
   "cell_type": "code",
   "execution_count": 13,
   "id": "e8900fbd",
   "metadata": {},
   "outputs": [],
   "source": [
    "m, n, i, j = ps.symbols(\"m n i j\", integer=True)\n",
    "A = ps.MatrixSymbol(\"A\", m, n)\n",
    "B = ps.MatrixSymbol(\"B\", m, n)\n",
    "R = ps.MatrixSymbol(\"R\", m, n)\n",
    "R_eq_A_plus_B = p.Equals(R, A + B, is_assumption=True)"
   ]
  },
  {
   "cell_type": "code",
   "execution_count": 14,
   "id": "33517e83",
   "metadata": {},
   "outputs": [
    {
     "data": {
      "text/latex": [
       "$$R = A + B$$"
      ],
      "text/plain": [
       "R = A + B"
      ]
     },
     "execution_count": 14,
     "metadata": {},
     "output_type": "execute_result"
    }
   ],
   "source": [
    "R_eq_A_plus_B"
   ]
  },
  {
   "cell_type": "code",
   "execution_count": 15,
   "id": "48639b42",
   "metadata": {},
   "outputs": [
    {
     "data": {
      "text/latex": [
       "$$R^{T} = A^{T} + B^{T}$$"
      ],
      "text/plain": [
       "R.T = A.T + B.T"
      ]
     },
     "execution_count": 15,
     "metadata": {},
     "output_type": "execute_result"
    }
   ],
   "source": [
    "to_prove = p.Equals(R.T, A.T + B.T)\n",
    "to_prove"
   ]
  },
  {
   "cell_type": "markdown",
   "id": "b1ce6e9e",
   "metadata": {},
   "source": [
    "The line with `by_simplification` is essentially what we wanted to prove, but I'm showcasing the `p_substitute_into` tactic which substitutes a proven equation, in this case the left side of `R = A + B` into another proposition."
   ]
  },
  {
   "cell_type": "code",
   "execution_count": 16,
   "id": "df9acfe0",
   "metadata": {},
   "outputs": [
    {
     "data": {
      "text/latex": [
       "$$R^{T} = A^{T} + B^{T}$$"
      ],
      "text/plain": [
       "R.T = A.T + B.T"
      ]
     },
     "execution_count": 16,
     "metadata": {},
     "output_type": "execute_result"
    }
   ],
   "source": [
    "a_plus_b_transpose_eq_a_t_plus_b_t = p.Equals((A+B).T, A.T + B.T).by_simplification()\n",
    "res = R_eq_A_plus_B.p_substitute_into(\"left\", a_plus_b_transpose_eq_a_t_plus_b_t)\n",
    "res"
   ]
  },
  {
   "cell_type": "code",
   "execution_count": 17,
   "id": "e31584b1",
   "metadata": {},
   "outputs": [
    {
     "data": {
      "text/plain": [
       "True"
      ]
     },
     "execution_count": 17,
     "metadata": {},
     "output_type": "execute_result"
    }
   ],
   "source": [
    "res.is_proven"
   ]
  },
  {
   "cell_type": "markdown",
   "id": "5c605dee",
   "metadata": {},
   "source": [
    "## Proving $(AB)^T = B^T A^T$"
   ]
  },
  {
   "cell_type": "code",
   "execution_count": 18,
   "id": "b193da3d",
   "metadata": {},
   "outputs": [],
   "source": [
    "m, n, r, i, i1, j, k = ps.symbols(\"m n r i i_1 j k\", integer=True)\n",
    "A = ps.MatrixSymbol(\"A\", m, n)\n",
    "B = ps.MatrixSymbol(\"B\", n, r)\n",
    "to_prove = p.Equals((A*B).T, B.T * A.T)"
   ]
  },
  {
   "cell_type": "code",
   "execution_count": 19,
   "id": "2eded88e",
   "metadata": {},
   "outputs": [
    {
     "data": {
      "text/latex": [
       "$$\\left(A B\\right)^{T} = B^{T} A^{T}$$"
      ],
      "text/plain": [
       "(A*B).T = B.T*A.T"
      ]
     },
     "execution_count": 19,
     "metadata": {},
     "output_type": "execute_result"
    }
   ],
   "source": [
    "to_prove"
   ]
  },
  {
   "cell_type": "markdown",
   "id": "f03ab1e9",
   "metadata": {},
   "source": [
    "`by_simplification` also works directly here."
   ]
  },
  {
   "cell_type": "code",
   "execution_count": 20,
   "id": "e29e3665",
   "metadata": {},
   "outputs": [
    {
     "data": {
      "text/plain": [
       "True"
      ]
     },
     "execution_count": 20,
     "metadata": {},
     "output_type": "execute_result"
    }
   ],
   "source": [
    "to_prove.by_simplification().is_proven"
   ]
  },
  {
   "cell_type": "markdown",
   "id": "65bb4584",
   "metadata": {},
   "source": [
    "But we can show that each corresponding component is equal in both matrices, and then use `hence_matrices_are_equal` which basically says, \"If all corresponding components of two matrices are equal, the matrices are equal\"."
   ]
  },
  {
   "cell_type": "code",
   "execution_count": 21,
   "id": "133d118e",
   "metadata": {},
   "outputs": [
    {
     "data": {
      "text/latex": [
       "$$\\left(A B\\right)^{T} = B^{T} A^{T}$$"
      ],
      "text/plain": [
       "(A*B).T = B.T*A.T"
      ]
     },
     "execution_count": 21,
     "metadata": {},
     "output_type": "execute_result"
    }
   ],
   "source": [
    "components_eq = p.Equals((A*B).T[i, j], (B.T * A.T)[i,j])\n",
    "ab_T_equals_b_T_a_T = (\n",
    "    components_eq.by_simplification()\n",
    "    .thus_forall(j)\n",
    "    .thus_forall(i)\n",
    "    .hence_matrices_are_equal()\n",
    "    )\n",
    "ab_T_equals_b_T_a_T"
   ]
  },
  {
   "cell_type": "code",
   "execution_count": 22,
   "id": "8c663183",
   "metadata": {},
   "outputs": [
    {
     "data": {
      "text/plain": [
       "True"
      ]
     },
     "execution_count": 22,
     "metadata": {},
     "output_type": "execute_result"
    }
   ],
   "source": [
    "ab_T_equals_b_T_a_T.is_proven"
   ]
  }
 ],
 "metadata": {
  "kernelspec": {
   "display_name": "Python 3 (ipykernel)",
   "language": "python",
   "name": "python3"
  },
  "language_info": {
   "codemirror_mode": {
    "name": "ipython",
    "version": 3
   },
   "file_extension": ".py",
   "mimetype": "text/x-python",
   "name": "python",
   "nbconvert_exporter": "python",
   "pygments_lexer": "ipython3",
   "version": "3.11.5"
  }
 },
 "nbformat": 4,
 "nbformat_minor": 5
}
